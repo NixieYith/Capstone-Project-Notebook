{
    "cells": [
        {
            "cell_type": "markdown",
            "metadata": {},
            "source": " explore and cluster the neighborhoods in Toronto."
        },
        {
            "cell_type": "code",
            "execution_count": 11,
            "metadata": {},
            "outputs": [
                {
                    "name": "stdout",
                    "output_type": "stream",
                    "text": "Requirement already satisfied: BeautifulSoup4 in /opt/conda/envs/Python-3.7-main/lib/python3.7/site-packages (4.9.1)\nRequirement already satisfied: soupsieve>1.2 in /opt/conda/envs/Python-3.7-main/lib/python3.7/site-packages (from BeautifulSoup4) (2.0.1)\nRequirement already satisfied: requests in /opt/conda/envs/Python-3.7-main/lib/python3.7/site-packages (2.24.0)\nRequirement already satisfied: idna<3,>=2.5 in /opt/conda/envs/Python-3.7-main/lib/python3.7/site-packages (from requests) (2.9)\nRequirement already satisfied: certifi>=2017.4.17 in /opt/conda/envs/Python-3.7-main/lib/python3.7/site-packages (from requests) (2020.11.8)\nRequirement already satisfied: urllib3!=1.25.0,!=1.25.1,<1.26,>=1.21.1 in /opt/conda/envs/Python-3.7-main/lib/python3.7/site-packages (from requests) (1.25.9)\nRequirement already satisfied: chardet<4,>=3.0.2 in /opt/conda/envs/Python-3.7-main/lib/python3.7/site-packages (from requests) (3.0.4)\nRequirement already satisfied: geocoder in /opt/conda/envs/Python-3.7-main/lib/python3.7/site-packages (1.38.1)\nRequirement already satisfied: requests in /opt/conda/envs/Python-3.7-main/lib/python3.7/site-packages (from geocoder) (2.24.0)\nRequirement already satisfied: six in /opt/conda/envs/Python-3.7-main/lib/python3.7/site-packages (from geocoder) (1.15.0)\nRequirement already satisfied: future in /opt/conda/envs/Python-3.7-main/lib/python3.7/site-packages (from geocoder) (0.18.2)\nRequirement already satisfied: ratelim in /opt/conda/envs/Python-3.7-main/lib/python3.7/site-packages (from geocoder) (0.1.6)\nRequirement already satisfied: click in /opt/conda/envs/Python-3.7-main/lib/python3.7/site-packages (from geocoder) (7.1.2)\nRequirement already satisfied: chardet<4,>=3.0.2 in /opt/conda/envs/Python-3.7-main/lib/python3.7/site-packages (from requests->geocoder) (3.0.4)\nRequirement already satisfied: certifi>=2017.4.17 in /opt/conda/envs/Python-3.7-main/lib/python3.7/site-packages (from requests->geocoder) (2020.11.8)\nRequirement already satisfied: idna<3,>=2.5 in /opt/conda/envs/Python-3.7-main/lib/python3.7/site-packages (from requests->geocoder) (2.9)\nRequirement already satisfied: urllib3!=1.25.0,!=1.25.1,<1.26,>=1.21.1 in /opt/conda/envs/Python-3.7-main/lib/python3.7/site-packages (from requests->geocoder) (1.25.9)\nRequirement already satisfied: decorator in /opt/conda/envs/Python-3.7-main/lib/python3.7/site-packages (from ratelim->geocoder) (4.4.2)\n"
                }
            ],
            "source": "!pip install BeautifulSoup4\n!pip install requests\n!pip install geocoder"
        },
        {
            "cell_type": "code",
            "execution_count": 12,
            "metadata": {},
            "outputs": [
                {
                    "data": {
                        "text/html": "<div>\n<style scoped>\n    .dataframe tbody tr th:only-of-type {\n        vertical-align: middle;\n    }\n\n    .dataframe tbody tr th {\n        vertical-align: top;\n    }\n\n    .dataframe thead th {\n        text-align: right;\n    }\n</style>\n<table border=\"1\" class=\"dataframe\">\n  <thead>\n    <tr style=\"text-align: right;\">\n      <th></th>\n      <th>Postal Code</th>\n      <th>Borough</th>\n      <th>Neighbourhood</th>\n    </tr>\n  </thead>\n  <tbody>\n    <tr>\n      <th>0</th>\n      <td>M1A</td>\n      <td>Not assigned</td>\n      <td>Not assigned</td>\n    </tr>\n    <tr>\n      <th>1</th>\n      <td>M2A</td>\n      <td>Not assigned</td>\n      <td>Not assigned</td>\n    </tr>\n    <tr>\n      <th>2</th>\n      <td>M3A</td>\n      <td>North York</td>\n      <td>Parkwoods</td>\n    </tr>\n    <tr>\n      <th>3</th>\n      <td>M4A</td>\n      <td>North York</td>\n      <td>Victoria Village</td>\n    </tr>\n    <tr>\n      <th>4</th>\n      <td>M5A</td>\n      <td>Downtown Toronto</td>\n      <td>Regent Park, Harbourfront</td>\n    </tr>\n  </tbody>\n</table>\n</div>",
                        "text/plain": "  Postal Code           Borough              Neighbourhood\n0         M1A      Not assigned               Not assigned\n1         M2A      Not assigned               Not assigned\n2         M3A        North York                  Parkwoods\n3         M4A        North York           Victoria Village\n4         M5A  Downtown Toronto  Regent Park, Harbourfront"
                    },
                    "execution_count": 12,
                    "metadata": {},
                    "output_type": "execute_result"
                }
            ],
            "source": "from bs4 import BeautifulSoup\nimport requests\nimport pandas as pd\nimport numpy as np\n\n#get html from wiki page and create soup object\nsource = requests.get(\"https://en.wikipedia.org/wiki/List_of_postal_codes_of_Canada:_M\")\nsoup = BeautifulSoup(source.text, 'lxml')\n\n#using soup object, iterate the .wikitable to get the data from the HTML page and store it into a list\ndata = []\ncolumns = []\ntable = soup.find(class_='wikitable')\nfor index, tr in enumerate(table.find_all('tr')):\n    section = []\n    for td in tr.find_all(['th','td']):\n        section.append(td.text.rstrip())\n    \n    #First row of data is the header\n    if (index == 0):\n        columns = section\n    else:\n        data.append(section)\n\n#convert list into Pandas DataFrame\ncanada_df = pd.DataFrame(data = data,columns = columns)\ncanada_df.head()"
        },
        {
            "cell_type": "code",
            "execution_count": 13,
            "metadata": {},
            "outputs": [
                {
                    "data": {
                        "text/html": "<div>\n<style scoped>\n    .dataframe tbody tr th:only-of-type {\n        vertical-align: middle;\n    }\n\n    .dataframe tbody tr th {\n        vertical-align: top;\n    }\n\n    .dataframe thead th {\n        text-align: right;\n    }\n</style>\n<table border=\"1\" class=\"dataframe\">\n  <thead>\n    <tr style=\"text-align: right;\">\n      <th></th>\n      <th>Postal Code</th>\n      <th>Borough</th>\n      <th>Neighbourhood</th>\n    </tr>\n  </thead>\n  <tbody>\n    <tr>\n      <th>2</th>\n      <td>M3A</td>\n      <td>North York</td>\n      <td>Parkwoods</td>\n    </tr>\n    <tr>\n      <th>3</th>\n      <td>M4A</td>\n      <td>North York</td>\n      <td>Victoria Village</td>\n    </tr>\n    <tr>\n      <th>4</th>\n      <td>M5A</td>\n      <td>Downtown Toronto</td>\n      <td>Regent Park, Harbourfront</td>\n    </tr>\n    <tr>\n      <th>5</th>\n      <td>M6A</td>\n      <td>North York</td>\n      <td>Lawrence Manor, Lawrence Heights</td>\n    </tr>\n    <tr>\n      <th>6</th>\n      <td>M7A</td>\n      <td>Downtown Toronto</td>\n      <td>Queen's Park, Ontario Provincial Government</td>\n    </tr>\n  </tbody>\n</table>\n</div>",
                        "text/plain": "  Postal Code           Borough                                Neighbourhood\n2         M3A        North York                                    Parkwoods\n3         M4A        North York                             Victoria Village\n4         M5A  Downtown Toronto                    Regent Park, Harbourfront\n5         M6A        North York             Lawrence Manor, Lawrence Heights\n6         M7A  Downtown Toronto  Queen's Park, Ontario Provincial Government"
                    },
                    "execution_count": 13,
                    "metadata": {},
                    "output_type": "execute_result"
                }
            ],
            "source": "canada_df = canada_df[canada_df['Borough'] != 'Not assigned']\ncanada_df.head()"
        },
        {
            "cell_type": "code",
            "execution_count": 14,
            "metadata": {},
            "outputs": [
                {
                    "data": {
                        "text/html": "<div>\n<style scoped>\n    .dataframe tbody tr th:only-of-type {\n        vertical-align: middle;\n    }\n\n    .dataframe tbody tr th {\n        vertical-align: top;\n    }\n\n    .dataframe thead th {\n        text-align: right;\n    }\n</style>\n<table border=\"1\" class=\"dataframe\">\n  <thead>\n    <tr style=\"text-align: right;\">\n      <th></th>\n      <th>Borough</th>\n      <th>Neighbourhood</th>\n    </tr>\n    <tr>\n      <th>Postal Code</th>\n      <th></th>\n      <th></th>\n    </tr>\n  </thead>\n  <tbody>\n    <tr>\n      <th>M3A</th>\n      <td>North York</td>\n      <td>Parkwoods</td>\n    </tr>\n    <tr>\n      <th>M4A</th>\n      <td>North York</td>\n      <td>Victoria Village</td>\n    </tr>\n    <tr>\n      <th>M5A</th>\n      <td>Downtown Toronto</td>\n      <td>Regent Park, Harbourfront</td>\n    </tr>\n    <tr>\n      <th>M6A</th>\n      <td>North York</td>\n      <td>Lawrence Manor, Lawrence Heights</td>\n    </tr>\n    <tr>\n      <th>M7A</th>\n      <td>Downtown Toronto</td>\n      <td>Queen's Park, Ontario Provincial Government</td>\n    </tr>\n  </tbody>\n</table>\n</div>",
                        "text/plain": "                      Borough                                Neighbourhood\nPostal Code                                                               \nM3A                North York                                    Parkwoods\nM4A                North York                             Victoria Village\nM5A          Downtown Toronto                    Regent Park, Harbourfront\nM6A                North York             Lawrence Manor, Lawrence Heights\nM7A          Downtown Toronto  Queen's Park, Ontario Provincial Government"
                    },
                    "execution_count": 14,
                    "metadata": {},
                    "output_type": "execute_result"
                }
            ],
            "source": "# More than one neighborhood can exist in one postal code area, combined these into one row with the neighborhoods separated with a comma\ncanada_df[\"Neighbourhood\"] = canada_df.groupby(\"Postal Code\")[\"Neighbourhood\"].transform(lambda neigh: ', '.join(neigh))\n\n#remove duplicates\ncanada_df = canada_df.drop_duplicates()\n\n#update index to be postcode if it isn't already\nif(canada_df.index.name != 'Postal Code'):\n    canada_df = canada_df.set_index('Postal Code')\n    \ncanada_df.head()"
        },
        {
            "cell_type": "code",
            "execution_count": 15,
            "metadata": {},
            "outputs": [
                {
                    "data": {
                        "text/html": "<div>\n<style scoped>\n    .dataframe tbody tr th:only-of-type {\n        vertical-align: middle;\n    }\n\n    .dataframe tbody tr th {\n        vertical-align: top;\n    }\n\n    .dataframe thead th {\n        text-align: right;\n    }\n</style>\n<table border=\"1\" class=\"dataframe\">\n  <thead>\n    <tr style=\"text-align: right;\">\n      <th></th>\n      <th>Borough</th>\n      <th>Neighbourhood</th>\n    </tr>\n    <tr>\n      <th>Postal Code</th>\n      <th></th>\n      <th></th>\n    </tr>\n  </thead>\n  <tbody>\n    <tr>\n      <th>M3A</th>\n      <td>North York</td>\n      <td>Parkwoods</td>\n    </tr>\n    <tr>\n      <th>M4A</th>\n      <td>North York</td>\n      <td>Victoria Village</td>\n    </tr>\n    <tr>\n      <th>M5A</th>\n      <td>Downtown Toronto</td>\n      <td>Regent Park, Harbourfront</td>\n    </tr>\n    <tr>\n      <th>M6A</th>\n      <td>North York</td>\n      <td>Lawrence Manor, Lawrence Heights</td>\n    </tr>\n    <tr>\n      <th>M7A</th>\n      <td>Downtown Toronto</td>\n      <td>Queen's Park, Ontario Provincial Government</td>\n    </tr>\n  </tbody>\n</table>\n</div>",
                        "text/plain": "                      Borough                                Neighbourhood\nPostal Code                                                               \nM3A                North York                                    Parkwoods\nM4A                North York                             Victoria Village\nM5A          Downtown Toronto                    Regent Park, Harbourfront\nM6A                North York             Lawrence Manor, Lawrence Heights\nM7A          Downtown Toronto  Queen's Park, Ontario Provincial Government"
                    },
                    "execution_count": 15,
                    "metadata": {},
                    "output_type": "execute_result"
                }
            ],
            "source": "canada_df['Neighbourhood'].replace(\"Not assigned\", canada_df[\"Borough\"],inplace=True)\ncanada_df.head()"
        },
        {
            "cell_type": "code",
            "execution_count": 16,
            "metadata": {},
            "outputs": [
                {
                    "data": {
                        "text/plain": "(103, 2)"
                    },
                    "execution_count": 16,
                    "metadata": {},
                    "output_type": "execute_result"
                }
            ],
            "source": "canada_df.shape"
        },
        {
            "cell_type": "code",
            "execution_count": 17,
            "metadata": {},
            "outputs": [],
            "source": "import geopy\nfrom  geopy.geocoders import Nominatim\nnominatim_service = Nominatim(user_agent='X@yy.com') # Important line\ngeopy.geocoders.options.default_user_agent = \"X@yy.com\" # Important line\ngeolocator = Nominatim()"
        },
        {
            "cell_type": "code",
            "execution_count": 18,
            "metadata": {},
            "outputs": [
                {
                    "name": "stdout",
                    "output_type": "stream",
                    "text": "latitude is :- 43.6534817 \nlongtitude is:- -79.3839347\n"
                }
            ],
            "source": "city =\"Toronto\"\ncountry =\"Canada\"\nloc = geolocator.geocode(city+','+ country)\nprint(\"latitude is :-\" ,loc.latitude,\"\\nlongtitude is:-\" ,loc.longitude)"
        },
        {
            "cell_type": "code",
            "execution_count": 22,
            "metadata": {},
            "outputs": [
                {
                    "name": "stdout",
                    "output_type": "stream",
                    "text": "Parkwoods Village Drive, Parkway East, Don Valley East, North York, Toronto, Golden Horseshoe, Ontario, M3A 2X2, Canada\n\n(43.7587999, -79.3201966)\n\n{'place_id': 128673886, 'licence': 'Data \u00a9 OpenStreetMap contributors, ODbL 1.0. https://osm.org/copyright', 'osm_type': 'way', 'osm_id': 160406961, 'boundingbox': ['43.7576231', '43.761106', '-79.3239088', '-79.316215'], 'lat': '43.7587999', 'lon': '-79.3201966', 'display_name': 'Parkwoods Village Drive, Parkway East, Don Valley East, North York, Toronto, Golden Horseshoe, Ontario, M3A 2X2, Canada', 'class': 'highway', 'type': 'secondary', 'importance': 0.51}\n"
                }
            ],
            "source": "location = geolocator.geocode(\"Toronto, North York, Parkwoods\")\nprint(location.address)\nprint('')\nprint((location.latitude, location.longitude))\nprint('')\nprint(location.raw)"
        },
        {
            "cell_type": "code",
            "execution_count": 29,
            "metadata": {},
            "outputs": [
                {
                    "data": {
                        "text/html": "<div>\n<style scoped>\n    .dataframe tbody tr th:only-of-type {\n        vertical-align: middle;\n    }\n\n    .dataframe tbody tr th {\n        vertical-align: top;\n    }\n\n    .dataframe thead th {\n        text-align: right;\n    }\n</style>\n<table border=\"1\" class=\"dataframe\">\n  <thead>\n    <tr style=\"text-align: right;\">\n      <th></th>\n      <th>Borough</th>\n      <th>Neighbourhood</th>\n      <th>Address</th>\n      <th>Location</th>\n      <th>Point</th>\n      <th>latitude</th>\n      <th>longitude</th>\n      <th>altitude</th>\n    </tr>\n    <tr>\n      <th>Postal Code</th>\n      <th></th>\n      <th></th>\n      <th></th>\n      <th></th>\n      <th></th>\n      <th></th>\n      <th></th>\n      <th></th>\n    </tr>\n  </thead>\n  <tbody>\n    <tr>\n      <th>M3A</th>\n      <td>North York</td>\n      <td>Parkwoods</td>\n      <td>Parkwoods, Toronto</td>\n      <td>(Parkwoods Village Drive, Parkway East, Don Va...</td>\n      <td>(43.7587999, -79.3201966, 0.0)</td>\n      <td>43.758800</td>\n      <td>-79.320197</td>\n      <td>0.0</td>\n    </tr>\n    <tr>\n      <th>M4A</th>\n      <td>North York</td>\n      <td>Victoria Village</td>\n      <td>Victoria Village, Toronto</td>\n      <td>(Victoria Village, Don Valley East, North York...</td>\n      <td>(43.732658, -79.3111892, 0.0)</td>\n      <td>43.732658</td>\n      <td>-79.311189</td>\n      <td>0.0</td>\n    </tr>\n    <tr>\n      <th>M5A</th>\n      <td>Downtown Toronto</td>\n      <td>Regent Park, Harbourfront</td>\n      <td>Regent Park, Harbourfront, Toronto</td>\n      <td>None</td>\n      <td>None</td>\n      <td>NaN</td>\n      <td>NaN</td>\n      <td>NaN</td>\n    </tr>\n    <tr>\n      <th>M6A</th>\n      <td>North York</td>\n      <td>Lawrence Manor, Lawrence Heights</td>\n      <td>Lawrence Manor, Lawrence Heights, Toronto</td>\n      <td>(Lawrence Avenue West, Lawrence Manor, Eglinto...</td>\n      <td>(43.7163909, -79.4425663, 0.0)</td>\n      <td>43.716391</td>\n      <td>-79.442566</td>\n      <td>0.0</td>\n    </tr>\n    <tr>\n      <th>M7A</th>\n      <td>Downtown Toronto</td>\n      <td>Queen's Park, Ontario Provincial Government</td>\n      <td>Queen's Park, Ontario Provincial Government, T...</td>\n      <td>None</td>\n      <td>None</td>\n      <td>NaN</td>\n      <td>NaN</td>\n      <td>NaN</td>\n    </tr>\n    <tr>\n      <th>...</th>\n      <td>...</td>\n      <td>...</td>\n      <td>...</td>\n      <td>...</td>\n      <td>...</td>\n      <td>...</td>\n      <td>...</td>\n      <td>...</td>\n    </tr>\n    <tr>\n      <th>M8X</th>\n      <td>Etobicoke</td>\n      <td>The Kingsway, Montgomery Road, Old Mill North</td>\n      <td>The Kingsway, Montgomery Road, Old Mill North,...</td>\n      <td>None</td>\n      <td>None</td>\n      <td>NaN</td>\n      <td>NaN</td>\n      <td>NaN</td>\n    </tr>\n    <tr>\n      <th>M4Y</th>\n      <td>Downtown Toronto</td>\n      <td>Church and Wellesley</td>\n      <td>Church and Wellesley, Toronto</td>\n      <td>(The Toronto, 77, Howard Street, St. James Tow...</td>\n      <td>(43.6708625, -79.37279241253721, 0.0)</td>\n      <td>43.670862</td>\n      <td>-79.372792</td>\n      <td>0.0</td>\n    </tr>\n    <tr>\n      <th>M7Y</th>\n      <td>East Toronto</td>\n      <td>Business reply mail Processing Centre, South C...</td>\n      <td>Business reply mail Processing Centre, South C...</td>\n      <td>None</td>\n      <td>None</td>\n      <td>NaN</td>\n      <td>NaN</td>\n      <td>NaN</td>\n    </tr>\n    <tr>\n      <th>M8Y</th>\n      <td>Etobicoke</td>\n      <td>Old Mill South, King's Mill Park, Sunnylea, Hu...</td>\n      <td>Old Mill South, King's Mill Park, Sunnylea, Hu...</td>\n      <td>None</td>\n      <td>None</td>\n      <td>NaN</td>\n      <td>NaN</td>\n      <td>NaN</td>\n    </tr>\n    <tr>\n      <th>M8Z</th>\n      <td>Etobicoke</td>\n      <td>Mimico NW, The Queensway West, South of Bloor,...</td>\n      <td>Mimico NW, The Queensway West, South of Bloor,...</td>\n      <td>None</td>\n      <td>None</td>\n      <td>NaN</td>\n      <td>NaN</td>\n      <td>NaN</td>\n    </tr>\n  </tbody>\n</table>\n<p>103 rows \u00d7 8 columns</p>\n</div>",
                        "text/plain": "                      Borough  \\\nPostal Code                     \nM3A                North York   \nM4A                North York   \nM5A          Downtown Toronto   \nM6A                North York   \nM7A          Downtown Toronto   \n...                       ...   \nM8X                 Etobicoke   \nM4Y          Downtown Toronto   \nM7Y              East Toronto   \nM8Y                 Etobicoke   \nM8Z                 Etobicoke   \n\n                                                 Neighbourhood  \\\nPostal Code                                                      \nM3A                                                  Parkwoods   \nM4A                                           Victoria Village   \nM5A                                  Regent Park, Harbourfront   \nM6A                           Lawrence Manor, Lawrence Heights   \nM7A                Queen's Park, Ontario Provincial Government   \n...                                                        ...   \nM8X              The Kingsway, Montgomery Road, Old Mill North   \nM4Y                                       Church and Wellesley   \nM7Y          Business reply mail Processing Centre, South C...   \nM8Y          Old Mill South, King's Mill Park, Sunnylea, Hu...   \nM8Z          Mimico NW, The Queensway West, South of Bloor,...   \n\n                                                       Address  \\\nPostal Code                                                      \nM3A                                         Parkwoods, Toronto   \nM4A                                  Victoria Village, Toronto   \nM5A                         Regent Park, Harbourfront, Toronto   \nM6A                  Lawrence Manor, Lawrence Heights, Toronto   \nM7A          Queen's Park, Ontario Provincial Government, T...   \n...                                                        ...   \nM8X          The Kingsway, Montgomery Road, Old Mill North,...   \nM4Y                              Church and Wellesley, Toronto   \nM7Y          Business reply mail Processing Centre, South C...   \nM8Y          Old Mill South, King's Mill Park, Sunnylea, Hu...   \nM8Z          Mimico NW, The Queensway West, South of Bloor,...   \n\n                                                      Location  \\\nPostal Code                                                      \nM3A          (Parkwoods Village Drive, Parkway East, Don Va...   \nM4A          (Victoria Village, Don Valley East, North York...   \nM5A                                                       None   \nM6A          (Lawrence Avenue West, Lawrence Manor, Eglinto...   \nM7A                                                       None   \n...                                                        ...   \nM8X                                                       None   \nM4Y          (The Toronto, 77, Howard Street, St. James Tow...   \nM7Y                                                       None   \nM8Y                                                       None   \nM8Z                                                       None   \n\n                                             Point   latitude  longitude  \\\nPostal Code                                                                \nM3A                 (43.7587999, -79.3201966, 0.0)  43.758800 -79.320197   \nM4A                  (43.732658, -79.3111892, 0.0)  43.732658 -79.311189   \nM5A                                           None        NaN        NaN   \nM6A                 (43.7163909, -79.4425663, 0.0)  43.716391 -79.442566   \nM7A                                           None        NaN        NaN   \n...                                            ...        ...        ...   \nM8X                                           None        NaN        NaN   \nM4Y          (43.6708625, -79.37279241253721, 0.0)  43.670862 -79.372792   \nM7Y                                           None        NaN        NaN   \nM8Y                                           None        NaN        NaN   \nM8Z                                           None        NaN        NaN   \n\n             altitude  \nPostal Code            \nM3A               0.0  \nM4A               0.0  \nM5A               NaN  \nM6A               0.0  \nM7A               NaN  \n...               ...  \nM8X               NaN  \nM4Y               0.0  \nM7Y               NaN  \nM8Y               NaN  \nM8Z               NaN  \n\n[103 rows x 8 columns]"
                    },
                    "execution_count": 29,
                    "metadata": {},
                    "output_type": "execute_result"
                }
            ],
            "source": "import geopy\nfrom  geopy.geocoders import Nominatim\nimport pandas as pd\nlocator = Nominatim(user_agent=\"KapilsGeocoder\")\nlocation = locator.geocode(\"Toronto, Canada\")\nfrom geopy.extra.rate_limiter import RateLimiter\n# PostalCode  Borough  Neighborhood\ndf_temp=canada_df.copy()\n# 1 - conveneint function to delay between geocoding calls\ngeocode = RateLimiter(locator.geocode, min_delay_seconds=1)\n# 2- - create location column\ndf_temp['Address'] = df_temp['Neighbourhood'].astype(str) + ',' + ' Toronto'   \ndf_temp['Location'] = df_temp['Address'].apply(geocode)\n# 3 - create longitude, laatitude and altitude from location column (returns tuple)\ndf_temp['Point'] = df_temp['Location'].apply(lambda loc: tuple(loc.point) if loc else None)\n# 4 - split point column into latitude, longitude and altitude columns\ndf_temp[['latitude', 'longitude', 'altitude']] = pd.DataFrame(df_temp['Point'].tolist(), index=df_temp.index)\ndf_temp # get the Get the latitude and the longitude coordinates of each neighborhood obtained"
        },
        {
            "cell_type": "code",
            "execution_count": null,
            "metadata": {},
            "outputs": [],
            "source": ""
        }
    ],
    "metadata": {
        "kernelspec": {
            "display_name": "Python 3.7",
            "language": "python",
            "name": "python3"
        }
    },
    "nbformat": 4,
    "nbformat_minor": 1
}